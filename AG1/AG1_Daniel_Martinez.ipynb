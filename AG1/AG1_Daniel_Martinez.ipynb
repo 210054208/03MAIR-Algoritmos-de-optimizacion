{
  "nbformat": 4,
  "nbformat_minor": 0,
  "metadata": {
    "colab": {
      "name": "AG1-Daniel_Martinez.ipynb",
      "version": "0.3.2",
      "provenance": [],
      "collapsed_sections": [],
      "include_colab_link": true
    },
    "kernelspec": {
      "name": "python3",
      "display_name": "Python 3"
    }
  },
  "cells": [
    {
      "cell_type": "markdown",
      "metadata": {
        "id": "view-in-github",
        "colab_type": "text"
      },
      "source": [
        "<a href=\"https://colab.research.google.com/github/210054208/03MAIR-Algoritmos-de-optimizacion/blob/master/AG1/AG1_Daniel_Martinez.ipynb\" target=\"_parent\"><img src=\"https://colab.research.google.com/assets/colab-badge.svg\" alt=\"Open In Colab\"/></a>"
      ]
    },
    {
      "metadata": {
        "id": "fMdhtzj9Nv4W",
        "colab_type": "text"
      },
      "cell_type": "markdown",
      "source": [
        "AG - Actividad Guiada 1<br>\n",
        "Daniel Martinez<br>\n",
        "https://github.com/210054208/03MAIR-Algoritmos-de-optimizacion/tree/master/AG1<br>"
      ]
    },
    {
      "metadata": {
        "id": "3JMbQNflXXpW",
        "colab_type": "code",
        "colab": {}
      },
      "cell_type": "code",
      "source": [
        "from time import time\n",
        "# Función para calcular el tiempo de ejecución\n",
        "\n",
        "def calcular_tiempo(f):   \n",
        "    def wrapper(*args, **kwargs):        \n",
        "        inicio = time()       \n",
        "        resultado = f(*args, **kwargs)       \n",
        "        tiempo = time() - inicio\n",
        "        print(\"Tiempo de ejecución para algoritmo: \"+str(tiempo))\n",
        "        return resultado\n",
        "    \n",
        "    return wrapper\n",
        "from time import time"
      ],
      "execution_count": 0,
      "outputs": []
    },
    {
      "metadata": {
        "id": "Jfc8Io2vQk98",
        "colab_type": "code",
        "colab": {
          "base_uri": "https://localhost:8080/",
          "height": 51
        },
        "outputId": "e27892e0-29fa-4613-86ea-f025406981f4"
      },
      "cell_type": "code",
      "source": [
        "# Algoritmo con la técnica quick_sort\n",
        "\n",
        "A = [9187, 244, 4054, 9222, 8373, 4993, 5265, 5470, 4519, 7182, 2035, 3506, 4337, 7580, 2554, 2824, 8357, 4447, 7379]\n",
        "def quick_sort(A):\n",
        "  if len(A) == 1:\n",
        "    return A\n",
        "  if len(A) == 2:\n",
        "    return[min(A), max(A)]\n",
        "  \n",
        "  izq = []\n",
        "  der = []\n",
        "  \n",
        "  pivote = (A[0] + A[1] + A[2])/3\n",
        "  \n",
        "  for i in A:\n",
        "    if i < pivote:\n",
        "      izq.append(i)\n",
        "    else:\n",
        "      der.append(i)\n",
        "      \n",
        "  return quick_sort(izq) + quick_sort (der)\n",
        "\n",
        "@calcular_tiempo\n",
        "def QS(A):\n",
        "  return quick_sort(A)\n",
        "\n",
        "print (QS(A))"
      ],
      "execution_count": 92,
      "outputs": [
        {
          "output_type": "stream",
          "text": [
            "Tiempo de ejecución para algoritmo: 3.647804260253906e-05\n",
            "[244, 2035, 2554, 2824, 3506, 4054, 4337, 4447, 4519, 4993, 5265, 5470, 7182, 7379, 7580, 8357, 8373, 9187, 9222]\n"
          ],
          "name": "stdout"
        }
      ]
    },
    {
      "metadata": {
        "id": "ACJyGiaidXjD",
        "colab_type": "code",
        "colab": {
          "base_uri": "https://localhost:8080/",
          "height": 51
        },
        "outputId": "2f6932c7-dcc7-4f21-a51b-938646e63d34"
      },
      "cell_type": "code",
      "source": [
        "# Algoritmo voraz\n",
        "\n",
        "# Introduzca la cantidad:\n",
        "cantidad = 123\n",
        "\n",
        "sistema = [25, 10, 5, 1]\n",
        "@calcular_tiempo\n",
        "def cambio_monedas(cantidad, sistema):\n",
        "  solucion = [0 for i in range (len(sistema))]\n",
        "  \n",
        "  valor_acumulado = 0\n",
        "  \n",
        "  for i in range (len(sistema)):\n",
        "    monedas = int((cantidad - valor_acumulado)/sistema[i])\n",
        "    solucion[i] = monedas\n",
        "    valor_acumulado += monedas * sistema[i]\n",
        "    \n",
        "    if cantidad == valor_acumulado:\n",
        "      return solucion\n",
        "  \n",
        "cambio_monedas (cantidad, sistema)"
      ],
      "execution_count": 93,
      "outputs": [
        {
          "output_type": "stream",
          "text": [
            "Tiempo de ejecución para algoritmo: 1.2874603271484375e-05\n"
          ],
          "name": "stdout"
        },
        {
          "output_type": "execute_result",
          "data": {
            "text/plain": [
              "[4, 2, 0, 3]"
            ]
          },
          "metadata": {
            "tags": []
          },
          "execution_count": 93
        }
      ]
    },
    {
      "metadata": {
        "id": "bQjVnQ6vntiO",
        "colab_type": "code",
        "colab": {
          "base_uri": "https://localhost:8080/",
          "height": 306
        },
        "outputId": "6951adc9-ad74-4766-aafe-418c3270a0a5"
      },
      "cell_type": "code",
      "source": [
        "# Algoritmo con la técnica vuelta atrás\n",
        "\n",
        "N = 4 # nùmero de reinas\n",
        "solucion = [0 for i in range (N)]\n",
        "etapa = 0\n",
        "\n",
        "def es_prometedora(solucion, etapa):\n",
        "  for i in range (etapa+1):\n",
        "    if solucion.count(solucion[i]) > 1:\n",
        "      return False\n",
        "    for j in range (i+1, etapa+1):\n",
        "      if abs(i-j) == abs(solucion[i] - solucion[j]):\n",
        "        return False\n",
        "  return True\n",
        "\n",
        "def escribe(S):\n",
        "  n = len(S)\n",
        "  for x in range (n):\n",
        "    print (\"\")\n",
        "    for i in range (n):\n",
        "      if solucion[i] == x+1:\n",
        "        print (\" X \", end = \"\")\n",
        "      else:\n",
        "        print (\" - \", end =\"\")\n",
        "\n",
        "def reinas (N, solucion, etapa):\n",
        "  for i in range (1, N+1):\n",
        "    solucion[etapa] = i\n",
        "  \n",
        "    if es_prometedora(solucion, etapa):\n",
        "      if etapa == N-1:\n",
        "        print (\"\\n\\nLa solución es:\")\n",
        "        print (solucion)\n",
        "        escribe(solucion)\n",
        "      else:\n",
        "        reinas (N, solucion, etapa+1)\n",
        "    else:\n",
        "      None\n",
        "    \n",
        "  solucion[etapa] = 0\n",
        "  \n",
        "reinas (N, solucion, etapa)"
      ],
      "execution_count": 108,
      "outputs": [
        {
          "output_type": "stream",
          "text": [
            "\n",
            "\n",
            "La solución es:\n",
            "[2, 4, 1, 3]\n",
            "\n",
            " -  -  X  - \n",
            " X  -  -  - \n",
            " -  -  -  X \n",
            " -  X  -  - \n",
            "\n",
            "La solución es:\n",
            "[3, 1, 4, 2]\n",
            "\n",
            " -  X  -  - \n",
            " -  -  -  X \n",
            " X  -  -  - \n",
            " -  -  X  - "
          ],
          "name": "stdout"
        }
      ]
    }
  ]
}