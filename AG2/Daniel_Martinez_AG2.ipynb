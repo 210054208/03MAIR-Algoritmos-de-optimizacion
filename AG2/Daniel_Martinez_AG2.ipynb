{
  "nbformat": 4,
  "nbformat_minor": 0,
  "metadata": {
    "colab": {
      "name": "Daniel Martinez_AG2.ipynb",
      "version": "0.3.2",
      "provenance": [],
      "collapsed_sections": [],
      "include_colab_link": true
    },
    "kernelspec": {
      "name": "python3",
      "display_name": "Python 3"
    }
  },
  "cells": [
    {
      "cell_type": "markdown",
      "metadata": {
        "id": "view-in-github",
        "colab_type": "text"
      },
      "source": [
        "<a href=\"https://colab.research.google.com/github/210054208/03MAIR-Algoritmos-de-optimizacion/blob/master/AG2/Daniel_Martinez_AG2.ipynb\" target=\"_parent\"><img src=\"https://colab.research.google.com/assets/colab-badge.svg\" alt=\"Open In Colab\"/></a>"
      ]
    },
    {
      "metadata": {
        "id": "uNfMkgfiFoBf",
        "colab_type": "text"
      },
      "cell_type": "markdown",
      "source": [
        "Daniel Martinez - AG2<br>\n",
        "Actividad Guiada 2<br>\n",
        "Url: https://github.com/210054208/03MAIR-Algoritmos-de-optimizacion/tree/master/AG2"
      ]
    },
    {
      "metadata": {
        "id": "Xs5ESv2LgSGY",
        "colab_type": "code",
        "colab": {}
      },
      "cell_type": "code",
      "source": [
        "from time import time\n",
        "# Función para calcular el tiempo de ejecución\n",
        "\n",
        "def calcular_tiempo(f):   \n",
        "    def wrapper(*args, **kwargs):        \n",
        "        inicio = time()       \n",
        "        resultado = f(*args, **kwargs)       \n",
        "        tiempo = time() - inicio\n",
        "        print(\"Tiempo de ejecución para algoritmo: \"+str(tiempo))\n",
        "        return resultado\n",
        "    \n",
        "    return wrapper"
      ],
      "execution_count": 0,
      "outputs": []
    },
    {
      "metadata": {
        "id": "d02tKcgoF7E-",
        "colab_type": "code",
        "colab": {
          "base_uri": "https://localhost:8080/",
          "height": 76
        },
        "outputId": "93942e4f-f23f-4f3f-8bd2-20612f7b1d88"
      },
      "cell_type": "code",
      "source": [
        "import random\n",
        "import math\n",
        "\n",
        "# Creando una lista de coordenadas (x,y):\n",
        "N = 500  # define el tamaño de la lista a través del número de elementos\n",
        "Lista_2D = [(random.randrange(1, N*10), random.randrange(1, N*10)) for _ in range(N)]\n",
        "print (Lista_2D)\n",
        "\n",
        "# Definiendo una relación de distancia a través de la siguiente función:\n",
        "def distancia (A,B):\n",
        "  if type(A) is int or type(A) is float:\n",
        "    return abs (B - A) # regresa el valor absoluto de la diferencia entre A y B\n",
        "  else:\n",
        "    return math.sqrt(sum([(A[i] - B[i])**2 for i in range(len(A))])) # aplica Teorema de Pitágoras para obtener distancia euclídea\n",
        "  \n",
        "distancia((2,3), (3,5)) # ejemplo; datos de entrada para corroborar que la función distancia funciona"
      ],
      "execution_count": 95,
      "outputs": [
        {
          "output_type": "stream",
          "text": [
            "[(1660, 4460), (4220, 2516), (3162, 310), (4500, 2804), (2570, 4800), (4316, 3785), (1476, 2743), (1732, 3416), (2095, 1348), (1672, 2315), (3278, 2387), (330, 777), (4066, 3961), (2725, 4779), (316, 1769), (2884, 3601), (3694, 3142), (4710, 2925), (4425, 1125), (4371, 1775), (4296, 2571), (2452, 1953), (4321, 2848), (4061, 4543), (1541, 4882), (4875, 4926), (4236, 1988), (3117, 934), (4403, 2708), (4771, 3909), (2831, 2726), (979, 701), (4752, 518), (2205, 405), (2118, 1809), (781, 4499), (4382, 4778), (4278, 1691), (356, 159), (100, 3960), (4498, 3808), (4351, 2400), (4464, 2725), (1686, 4155), (3311, 2339), (4048, 1131), (1400, 2753), (1778, 2800), (1688, 2366), (2627, 653), (2906, 3740), (3827, 4585), (1526, 2072), (4486, 1550), (2467, 1573), (2900, 4710), (4834, 3900), (4502, 39), (510, 1427), (4848, 1655), (4168, 4377), (270, 2446), (3379, 2198), (4283, 249), (4902, 2315), (59, 3608), (2583, 2271), (3144, 3968), (4872, 1172), (6, 142), (1190, 4517), (1758, 370), (1377, 2234), (1149, 4981), (3535, 4790), (1560, 818), (3967, 2030), (2313, 880), (3329, 2363), (655, 1444), (1518, 873), (4190, 2024), (4291, 2047), (1062, 1791), (3477, 4912), (4957, 3976), (302, 4756), (567, 2737), (358, 59), (639, 4834), (4614, 273), (3708, 1037), (3385, 85), (2713, 569), (2543, 3633), (4695, 1040), (471, 3203), (3753, 3152), (1476, 2064), (846, 2338), (4565, 2184), (2322, 2406), (729, 4500), (3594, 4384), (2486, 3050), (4816, 169), (4805, 926), (3593, 2278), (739, 2843), (3327, 3294), (677, 1043), (2282, 2999), (1887, 435), (927, 483), (3265, 974), (3184, 2394), (2437, 1974), (3021, 4397), (4018, 1235), (557, 2613), (513, 4475), (2258, 4388), (4637, 2363), (2227, 3901), (1520, 2303), (3609, 4849), (2629, 2547), (632, 1575), (1816, 2278), (4106, 210), (3277, 2869), (2533, 3403), (4484, 996), (379, 3925), (745, 4033), (4073, 974), (4023, 1899), (1975, 1495), (3473, 3410), (3407, 1233), (2899, 1538), (3794, 1536), (255, 274), (2114, 4674), (187, 4145), (90, 3483), (4916, 409), (3768, 2807), (3076, 4273), (778, 345), (1249, 683), (1241, 2195), (1363, 4018), (3183, 1951), (432, 10), (2940, 3692), (835, 3750), (651, 4390), (1009, 4807), (2876, 1286), (1845, 3362), (4352, 4703), (422, 602), (4474, 2811), (2289, 1377), (1688, 4535), (2555, 2236), (3615, 2244), (857, 2638), (2373, 2563), (4078, 2793), (602, 2783), (3736, 1154), (527, 332), (3697, 2251), (4946, 1223), (4865, 3844), (2522, 2874), (4930, 1590), (4591, 3383), (2561, 49), (4701, 4124), (848, 2488), (4599, 1175), (133, 2810), (531, 4852), (3559, 1714), (395, 4993), (1918, 2125), (1416, 630), (4386, 2625), (3373, 4366), (3561, 724), (1353, 3222), (4765, 4949), (2817, 1804), (3101, 4023), (612, 1088), (388, 2292), (943, 1022), (212, 1049), (4569, 1001), (4709, 2815), (4170, 2410), (3690, 4056), (3576, 559), (285, 3787), (2099, 956), (3031, 4372), (2932, 2210), (4156, 3893), (4962, 1671), (4771, 4302), (4850, 3632), (281, 1052), (3647, 1825), (4252, 2271), (992, 3969), (3340, 1712), (3480, 4972), (3688, 4309), (3911, 769), (2015, 2286), (496, 2058), (2587, 1952), (3585, 3901), (2979, 1516), (2379, 3743), (4140, 4689), (4756, 4662), (4868, 2008), (4478, 2006), (1837, 3767), (2630, 2436), (4673, 567), (1308, 4463), (3128, 241), (128, 953), (3793, 1289), (193, 4953), (1458, 898), (1827, 4264), (2826, 3611), (4867, 4767), (4729, 1231), (1484, 2808), (4756, 3910), (838, 2471), (3408, 4428), (672, 4134), (3119, 2644), (122, 1837), (4799, 591), (4592, 965), (3486, 4871), (3057, 3826), (739, 276), (2222, 424), (1715, 2877), (1570, 2929), (3204, 3297), (4732, 3084), (135, 1281), (2693, 3473), (1289, 320), (1352, 1005), (3382, 1236), (1675, 372), (764, 1613), (2624, 3682), (4534, 4755), (3497, 2926), (3012, 4428), (3601, 3649), (2165, 2834), (4428, 4868), (652, 3821), (1849, 4897), (2432, 3207), (65, 4646), (1636, 746), (2220, 99), (1006, 953), (546, 4940), (769, 3552), (3474, 4220), (1396, 4921), (3954, 1572), (3855, 1758), (4047, 1334), (2077, 4615), (2342, 4925), (3730, 4941), (279, 1372), (946, 4854), (4458, 412), (68, 3270), (125, 2124), (299, 2239), (4655, 991), (14, 1894), (4731, 2466), (2645, 3172), (3650, 463), (728, 2765), (50, 1428), (3004, 2118), (3673, 3292), (1996, 2930), (118, 2775), (4778, 442), (2789, 2313), (1218, 58), (1739, 3467), (1473, 4963), (3665, 2005), (4336, 3751), (232, 2462), (1438, 1878), (3523, 4907), (2423, 3467), (3746, 3136), (198, 2062), (1394, 1062), (4814, 693), (2420, 482), (1919, 3622), (4355, 3543), (4005, 94), (1555, 2432), (1274, 1675), (822, 2348), (2311, 4190), (1017, 1080), (2706, 494), (3678, 1408), (4446, 296), (4244, 4849), (4703, 4714), (1679, 907), (47, 3223), (4296, 2991), (1119, 1620), (2599, 4224), (4919, 4332), (3121, 2781), (4103, 157), (2330, 1596), (3849, 3189), (2472, 3367), (3298, 4795), (1265, 1696), (663, 2892), (4798, 522), (908, 3008), (262, 4030), (4838, 4067), (4142, 4725), (246, 2568), (3317, 1896), (1883, 746), (4535, 1260), (4492, 4938), (1366, 449), (3369, 2998), (2958, 2924), (1372, 3184), (2399, 2010), (4335, 3359), (3924, 890), (1759, 4419), (1751, 4531), (1637, 4625), (4809, 3694), (466, 3576), (2218, 3817), (2866, 4391), (2784, 2047), (840, 3481), (1408, 761), (4390, 3116), (4888, 4205), (2511, 4374), (2569, 1311), (3641, 2453), (702, 941), (4022, 4269), (4704, 4676), (2746, 814), (1919, 3760), (818, 4756), (1208, 1055), (4194, 3607), (4650, 716), (800, 1818), (2720, 1518), (985, 973), (1683, 1055), (2498, 82), (4697, 696), (4693, 4977), (4545, 3944), (2905, 798), (4607, 925), (159, 4430), (1826, 1376), (507, 240), (3937, 4261), (2950, 3530), (1965, 2176), (4323, 2694), (4910, 1718), (2509, 1075), (2547, 2083), (4540, 1745), (1627, 3062), (4498, 4142), (881, 2277), (1604, 3652), (3657, 4722), (2406, 4046), (3371, 906), (4934, 2609), (4901, 1521), (4282, 2787), (4939, 4128), (3906, 119), (1898, 3615), (2196, 766), (3031, 1622), (3531, 3724), (3156, 1941), (111, 3490), (3678, 1973), (3511, 4803), (533, 4355), (3302, 3639), (2149, 3468), (2092, 2291), (4609, 2471), (263, 3212), (1132, 2897), (3393, 494), (2189, 2076), (1163, 1662), (1875, 265), (347, 440), (1690, 3864), (1071, 2807), (4378, 971), (730, 65), (3281, 3558), (4617, 299), (4592, 994), (2707, 435), (2763, 4098), (1324, 1519), (4746, 1291), (4155, 376), (3946, 1462), (3281, 4512), (4448, 779), (4198, 3658), (3940, 2675), (2248, 1209), (3300, 1572), (4245, 1862), (309, 195), (2384, 2447), (4164, 1567), (142, 1449), (1278, 514), (794, 3854), (2353, 2086), (1697, 3373), (914, 619), (1760, 462), (1464, 3323), (1082, 993), (2670, 4462), (1285, 983), (16, 2269), (4408, 4394), (3012, 669), (1559, 4628), (1972, 4815), (4924, 1212), (1208, 2461), (4957, 3493), (2205, 120), (2351, 1257), (1485, 453), (3088, 2287), (3369, 1206), (1, 2407), (666, 4214), (4524, 4712), (1525, 3835), (1652, 1253), (677, 1725)]\n"
          ],
          "name": "stdout"
        },
        {
          "output_type": "execute_result",
          "data": {
            "text/plain": [
              "2.23606797749979"
            ]
          },
          "metadata": {
            "tags": []
          },
          "execution_count": 95
        }
      ]
    },
    {
      "metadata": {
        "id": "2YVMpxC9Z82M",
        "colab_type": "code",
        "colab": {
          "base_uri": "https://localhost:8080/",
          "height": 34
        },
        "outputId": "6343d029-07bb-446f-abf1-41cd6e0cb330"
      },
      "cell_type": "code",
      "source": [
        "# Desarrollando un Algoritmo de FUERZA BRUTA:\n",
        "\n",
        "def distancia_fuerza_bruta(L):\n",
        "  mejor_distancia = 100000e10 # variable temporal que se usa como punto de partida\n",
        "  \n",
        "  A,B = (),() # puntos que guardan la mejor posibilidad encontrada hasta el momento\n",
        "  \n",
        "  for i in range(len(L)): # bucle que recorre todos los puntos de nuestra lista\n",
        "    for j in range(i+1, len(L)): # 2do bucle que recorre desde el punto siguiente del bucle anterior\n",
        "      if distancia(L[i], L[j]) < mejor_distancia:\n",
        "        A,B = L[i], L[j]\n",
        "        mejor_distancia = distancia(L[i], L[j])\n",
        "  return [A,B]\n",
        "\n",
        "distancia_fuerza_bruta(Lista_2D)"
      ],
      "execution_count": 96,
      "outputs": [
        {
          "output_type": "execute_result",
          "data": {
            "text/plain": [
              "[(4771, 3909), (4756, 3910)]"
            ]
          },
          "metadata": {
            "tags": []
          },
          "execution_count": 96
        }
      ]
    },
    {
      "metadata": {
        "id": "HWvWTDbem-ZL",
        "colab_type": "code",
        "colab": {
          "base_uri": "https://localhost:8080/",
          "height": 51
        },
        "outputId": "5bf0abcb-7d49-4183-9790-09cb21f1788b"
      },
      "cell_type": "code",
      "source": [
        "# Desarrollando un algoritmo DIVIDE Y VENCERAS:\n",
        "\n",
        "def distancia_divide_y_venceras(L):\n",
        "  # Si hay pocos por fuerza bruta:\n",
        "  if len(L) < 10:\n",
        "    return distancia_fuerza_bruta(L)\n",
        "  \n",
        "  # Dividimos en listas grandes (izq y der):\n",
        "  Lista_izq = sorted(L, key=lambda x: x[0])[:len(L)//2]\n",
        "  Lista_der = sorted(L, key=lambda x: x[0])[len(L)//2:]\n",
        "    \n",
        "  # A continuación calculamos los puntos mas cercanos en cada una de las 2 listas:\n",
        "  \n",
        "  Puntos_lista_izq = distancia_divide_y_venceras(Lista_izq)\n",
        "  Puntos_lista_der = distancia_divide_y_venceras(Lista_der)\n",
        "  \n",
        "  return distancia_fuerza_bruta(Puntos_lista_izq + Puntos_lista_der)\n",
        "\n",
        "@calcular_tiempo\n",
        "def LANZA(L):\n",
        "  return distancia_divide_y_venceras(L)\n",
        "  \n",
        "solucion = LANZA(Lista_2D[:100])\n",
        "print(solucion)"
      ],
      "execution_count": 97,
      "outputs": [
        {
          "output_type": "stream",
          "text": [
            "Tiempo de ejecución para algoritmo: 0.0012063980102539062\n",
            "[(1672, 2315), (1688, 2366)]\n"
          ],
          "name": "stdout"
        }
      ]
    },
    {
      "metadata": {
        "id": "DkQnakrFwGs6",
        "colab_type": "code",
        "colab": {
          "base_uri": "https://localhost:8080/",
          "height": 127
        },
        "outputId": "085a0768-df80-4234-c42b-e7f0290bee2d"
      },
      "cell_type": "code",
      "source": [
        "# Resolviendo el problema \"PASEO POR EL RIO\":\n",
        "\n",
        "TARIFAS = [[0,5,4,3,999,999,999],\n",
        "           [999,0,999,2,3,999,11],\n",
        "           [999,999, 0,1,999,4,10],\n",
        "           [999,999,999, 0,5,6,9],\n",
        "           [999,999, 999,999,0,999,4],\n",
        "           [999,999, 999,999,999,0,3],\n",
        "           [999,999,999,999,999,999,0]] # se define un valor muy alto (999) p/ restringir el paso directo de un pto a otro donde N/A sin pasar x un pto intermedio\n",
        "\n",
        "def Precios(TARIFAS):\n",
        "  N = len(TARIFAS[0])\n",
        "  \n",
        "  # A continuación se crean matrices cuadradas de referencia para usar como punto de partida:\n",
        "  Precios = [[9999]*N for i in [9999]*N]\n",
        "  Ruta = [[\"\"]*N for i in [9999]*N]\n",
        "  \n",
        "  # A continuaciòn recorremos los puntos:\n",
        "  for i in range (N-1): # solo nos interesa llegar hasta el penúltimo elemento en el 1er ciclo del bucle\n",
        "    for j in range (i+1, N): # en este 2do bucle recorremos ahora si hasta el ultimo elemento pero desde los puntos 2, 3, 4, 5 y 6\n",
        "      Min = TARIFAS[i][j]\n",
        "      Ruta[i][j] = i\n",
        "      \n",
        "      for k in range (i,j):\n",
        "        if Precios[i][k] + TARIFAS[k][j] < Min:\n",
        "          Min = min(Min, Precios[i][k] + TARIFAS[k][j])\n",
        "          Ruta[i][j] = k # la ruta de i,j, debe pasar por k\n",
        "        Precios[i][j] = Min\n",
        "        \n",
        "  return Precios, Ruta\n",
        "  \n",
        "Precios, Ruta = Precios(TARIFAS)\n",
        "print (Precios)\n",
        "print (Ruta)\n",
        "\n",
        "def calcular_ruta(Ruta, desde, hasta):\n",
        "  if desde == hasta:\n",
        "    #print(\"Ir a :\" + str(desde))\n",
        "    return desde \n",
        "  else:\n",
        "    return str(calcular_ruta(Ruta, desde, Ruta[desde][hasta])) + ',' + str(Ruta[desde][hasta]) \n",
        "\n",
        "print(\"\\nLa ruta es:\")\n",
        "calcular_ruta(Ruta, 0,6)"
      ],
      "execution_count": 106,
      "outputs": [
        {
          "output_type": "stream",
          "text": [
            "[[9999, 5, 4, 3, 8, 8, 11], [9999, 9999, 999, 2, 3, 8, 7], [9999, 9999, 9999, 1, 6, 4, 7], [9999, 9999, 9999, 9999, 5, 6, 9], [9999, 9999, 9999, 9999, 9999, 999, 4], [9999, 9999, 9999, 9999, 9999, 9999, 3], [9999, 9999, 9999, 9999, 9999, 9999, 9999]]\n",
            "[['', 0, 0, 0, 1, 2, 5], ['', '', 1, 1, 1, 3, 4], ['', '', '', 2, 3, 2, 5], ['', '', '', '', 3, 3, 3], ['', '', '', '', '', 4, 4], ['', '', '', '', '', '', 5], ['', '', '', '', '', '', '']]\n",
            "\n",
            "La ruta es:\n"
          ],
          "name": "stdout"
        },
        {
          "output_type": "execute_result",
          "data": {
            "text/plain": [
              "'0,0,2,5'"
            ]
          },
          "metadata": {
            "tags": []
          },
          "execution_count": 106
        }
      ]
    },
    {
      "metadata": {
        "id": "te4LR6Qx8Jm-",
        "colab_type": "code",
        "colab": {}
      },
      "cell_type": "code",
      "source": [
        ""
      ],
      "execution_count": 0,
      "outputs": []
    }
  ]
}